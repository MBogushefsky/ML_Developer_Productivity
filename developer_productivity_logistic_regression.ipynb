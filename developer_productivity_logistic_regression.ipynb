{
  "cells": [
    {
      "cell_type": "markdown",
      "metadata": {
        "id": "view-in-github",
        "colab_type": "text"
      },
      "source": [
        "<a href=\"https://colab.research.google.com/github/MBogushefsky/ML_Developer_Productivity/blob/main/developer_productivity_logistic_regression.ipynb\" target=\"_parent\"><img src=\"https://colab.research.google.com/assets/colab-badge.svg\" alt=\"Open In Colab\"/></a>"
      ]
    },
    {
      "cell_type": "code",
      "execution_count": null,
      "id": "366e5de5-601e-4c78-a6ad-dd1a08eb9e12",
      "metadata": {
        "id": "366e5de5-601e-4c78-a6ad-dd1a08eb9e12"
      },
      "outputs": [],
      "source": [
        "import pandas as pd\n",
        "import numpy as np\n",
        "import matplotlib.pyplot as plt"
      ]
    },
    {
      "cell_type": "code",
      "execution_count": null,
      "id": "4548fd35-5a65-48fa-bb10-073bdf1d1f72",
      "metadata": {
        "id": "4548fd35-5a65-48fa-bb10-073bdf1d1f72"
      },
      "outputs": [],
      "source": [
        "df = pd.read_csv('./ai_dev_productivity.csv')"
      ]
    },
    {
      "cell_type": "code",
      "execution_count": null,
      "id": "a52cd4ca-6a19-4e6c-a3c0-a904d716d4e6",
      "metadata": {
        "id": "a52cd4ca-6a19-4e6c-a3c0-a904d716d4e6",
        "outputId": "3f39deb9-015f-4b5d-bce5-ef5ca8c64291"
      },
      "outputs": [
        {
          "data": {
            "text/html": [
              "<div>\n",
              "<style scoped>\n",
              "    .dataframe tbody tr th:only-of-type {\n",
              "        vertical-align: middle;\n",
              "    }\n",
              "\n",
              "    .dataframe tbody tr th {\n",
              "        vertical-align: top;\n",
              "    }\n",
              "\n",
              "    .dataframe thead th {\n",
              "        text-align: right;\n",
              "    }\n",
              "</style>\n",
              "<table border=\"1\" class=\"dataframe\">\n",
              "  <thead>\n",
              "    <tr style=\"text-align: right;\">\n",
              "      <th></th>\n",
              "      <th>hours_coding</th>\n",
              "      <th>coffee_intake_mg</th>\n",
              "      <th>distractions</th>\n",
              "      <th>sleep_hours</th>\n",
              "      <th>commits</th>\n",
              "      <th>bugs_reported</th>\n",
              "      <th>ai_usage_hours</th>\n",
              "      <th>cognitive_load</th>\n",
              "      <th>task_success</th>\n",
              "    </tr>\n",
              "  </thead>\n",
              "  <tbody>\n",
              "    <tr>\n",
              "      <th>0</th>\n",
              "      <td>5.99</td>\n",
              "      <td>600</td>\n",
              "      <td>1</td>\n",
              "      <td>5.8</td>\n",
              "      <td>2</td>\n",
              "      <td>1</td>\n",
              "      <td>0.71</td>\n",
              "      <td>5.4</td>\n",
              "      <td>1</td>\n",
              "    </tr>\n",
              "    <tr>\n",
              "      <th>1</th>\n",
              "      <td>4.72</td>\n",
              "      <td>568</td>\n",
              "      <td>2</td>\n",
              "      <td>6.9</td>\n",
              "      <td>5</td>\n",
              "      <td>3</td>\n",
              "      <td>1.75</td>\n",
              "      <td>4.7</td>\n",
              "      <td>1</td>\n",
              "    </tr>\n",
              "    <tr>\n",
              "      <th>2</th>\n",
              "      <td>6.30</td>\n",
              "      <td>560</td>\n",
              "      <td>1</td>\n",
              "      <td>8.9</td>\n",
              "      <td>2</td>\n",
              "      <td>0</td>\n",
              "      <td>2.27</td>\n",
              "      <td>2.2</td>\n",
              "      <td>1</td>\n",
              "    </tr>\n",
              "    <tr>\n",
              "      <th>3</th>\n",
              "      <td>8.05</td>\n",
              "      <td>600</td>\n",
              "      <td>7</td>\n",
              "      <td>6.3</td>\n",
              "      <td>9</td>\n",
              "      <td>5</td>\n",
              "      <td>1.40</td>\n",
              "      <td>5.9</td>\n",
              "      <td>0</td>\n",
              "    </tr>\n",
              "    <tr>\n",
              "      <th>4</th>\n",
              "      <td>4.53</td>\n",
              "      <td>421</td>\n",
              "      <td>6</td>\n",
              "      <td>6.9</td>\n",
              "      <td>4</td>\n",
              "      <td>0</td>\n",
              "      <td>1.26</td>\n",
              "      <td>6.3</td>\n",
              "      <td>1</td>\n",
              "    </tr>\n",
              "  </tbody>\n",
              "</table>\n",
              "</div>"
            ],
            "text/plain": [
              "   hours_coding  coffee_intake_mg  distractions  sleep_hours  commits  \\\n",
              "0          5.99               600             1          5.8        2   \n",
              "1          4.72               568             2          6.9        5   \n",
              "2          6.30               560             1          8.9        2   \n",
              "3          8.05               600             7          6.3        9   \n",
              "4          4.53               421             6          6.9        4   \n",
              "\n",
              "   bugs_reported  ai_usage_hours  cognitive_load  task_success  \n",
              "0              1            0.71             5.4             1  \n",
              "1              3            1.75             4.7             1  \n",
              "2              0            2.27             2.2             1  \n",
              "3              5            1.40             5.9             0  \n",
              "4              0            1.26             6.3             1  "
            ]
          },
          "execution_count": 8,
          "metadata": {},
          "output_type": "execute_result"
        }
      ],
      "source": [
        "df.head()"
      ]
    },
    {
      "cell_type": "code",
      "execution_count": null,
      "id": "ea521326-fb28-4964-ad65-53bc463ae931",
      "metadata": {
        "id": "ea521326-fb28-4964-ad65-53bc463ae931",
        "outputId": "80454ba0-e54b-437c-a365-19fe98b45a6c"
      },
      "outputs": [
        {
          "data": {
            "text/plain": [
              "hours_coding        0\n",
              "coffee_intake_mg    0\n",
              "distractions        0\n",
              "sleep_hours         0\n",
              "commits             0\n",
              "bugs_reported       0\n",
              "ai_usage_hours      0\n",
              "cognitive_load      0\n",
              "task_success        0\n",
              "dtype: int64"
            ]
          },
          "execution_count": 26,
          "metadata": {},
          "output_type": "execute_result"
        }
      ],
      "source": [
        "df.isnull().sum()"
      ]
    },
    {
      "cell_type": "code",
      "execution_count": null,
      "id": "37acd9c2-df4c-4fe5-b29d-9fdff9ad547b",
      "metadata": {
        "id": "37acd9c2-df4c-4fe5-b29d-9fdff9ad547b"
      },
      "outputs": [],
      "source": [
        "from sklearn.linear_model import LogisticRegression\n",
        "from sklearn.model_selection import train_test_split"
      ]
    },
    {
      "cell_type": "code",
      "execution_count": null,
      "id": "ce2cdd06-ee5b-4bce-965c-0deb21a2f31f",
      "metadata": {
        "id": "ce2cdd06-ee5b-4bce-965c-0deb21a2f31f"
      },
      "outputs": [],
      "source": [
        "lr = LogisticRegression(max_iter=1000)\n",
        "X = df.drop(['task_success'], axis=1)\n",
        "y = df[['task_success']]"
      ]
    },
    {
      "cell_type": "code",
      "execution_count": null,
      "id": "d18c462c-ec74-4152-ab85-1fe9e5437580",
      "metadata": {
        "id": "d18c462c-ec74-4152-ab85-1fe9e5437580"
      },
      "outputs": [],
      "source": [
        "X_train, X_test, y_train, y_test = train_test_split(X, y, test_size=0.2, random_state=1)"
      ]
    },
    {
      "cell_type": "code",
      "execution_count": null,
      "id": "e6d8af6e-b652-47d8-a7de-e62d2b5ca805",
      "metadata": {
        "id": "e6d8af6e-b652-47d8-a7de-e62d2b5ca805",
        "outputId": "ccda05e4-c5db-4b50-cfbf-46b17431e5bf"
      },
      "outputs": [
        {
          "name": "stderr",
          "output_type": "stream",
          "text": [
            "/opt/anaconda3/lib/python3.12/site-packages/sklearn/utils/validation.py:1339: DataConversionWarning: A column-vector y was passed when a 1d array was expected. Please change the shape of y to (n_samples, ), for example using ravel().\n",
            "  y = column_or_1d(y, warn=True)\n"
          ]
        }
      ],
      "source": [
        "model = lr.fit(X_train, y_train)"
      ]
    },
    {
      "cell_type": "code",
      "execution_count": null,
      "id": "7e9c43d1-0af8-4494-81ed-8751b7d08278",
      "metadata": {
        "id": "7e9c43d1-0af8-4494-81ed-8751b7d08278",
        "outputId": "16f72a51-9af2-453a-bc1d-a8b1b9d98016"
      },
      "outputs": [
        {
          "data": {
            "text/plain": [
              "0.89"
            ]
          },
          "execution_count": 80,
          "metadata": {},
          "output_type": "execute_result"
        }
      ],
      "source": [
        "model.score(X_test, y_test)"
      ]
    },
    {
      "cell_type": "code",
      "execution_count": null,
      "id": "3c6b81e2-eeb9-4d9d-b2df-fc07f46d8b82",
      "metadata": {
        "id": "3c6b81e2-eeb9-4d9d-b2df-fc07f46d8b82",
        "outputId": "34c73546-c3dd-4522-e94a-d007bf07dace"
      },
      "outputs": [
        {
          "data": {
            "text/plain": [
              "array([[ 0.06705827,  0.02454101, -0.22743187,  0.41182009, -0.09557061,\n",
              "        -0.61633614, -0.18387884, -0.2298354 ]])"
            ]
          },
          "execution_count": 84,
          "metadata": {},
          "output_type": "execute_result"
        }
      ],
      "source": [
        "lr.coef_"
      ]
    },
    {
      "cell_type": "code",
      "execution_count": null,
      "id": "8c5f9f30-c4f5-4729-a7e1-49bab00dd65c",
      "metadata": {
        "id": "8c5f9f30-c4f5-4729-a7e1-49bab00dd65c"
      },
      "outputs": [],
      "source": [
        "abs_coef = np.abs(lr.coef_)"
      ]
    },
    {
      "cell_type": "code",
      "execution_count": null,
      "id": "a84bfd13-e3e5-44d2-a1c3-886bfe30bbbc",
      "metadata": {
        "id": "a84bfd13-e3e5-44d2-a1c3-886bfe30bbbc"
      },
      "outputs": [],
      "source": [
        "feature_df = pd.DataFrame({'Features': X.columns, 'Abs Coefficient': abs_coef[0] })\n",
        "feature_sorted_df = feature_df.sort_values('Abs Coefficient', ascending=True)"
      ]
    },
    {
      "cell_type": "code",
      "execution_count": null,
      "id": "a10db26a-148d-4602-a3a7-68c1a98d325c",
      "metadata": {
        "id": "a10db26a-148d-4602-a3a7-68c1a98d325c",
        "outputId": "eeddeca6-5d01-4b4a-f477-1f4928dffce9"
      },
      "outputs": [
        {
          "data": {
            "text/plain": [
              "<BarContainer object of 8 artists>"
            ]
          },
          "execution_count": 114,
          "metadata": {},
          "output_type": "execute_result"
        },
        {
          "data": {
            "image/png": "[encoded data removed]",
            "text/plain": [
              "<Figure size 640x480 with 1 Axes>"
            ]
          },
          "metadata": {},
          "output_type": "display_data"
        }
      ],
      "source": [
        "plt.barh(feature_sorted_df['Features'], width=feature_sorted_df['Abs Coefficient'])"
      ]
    },
    {
      "cell_type": "code",
      "execution_count": null,
      "id": "5c86de8d-3370-4048-ba44-57e9eded2345",
      "metadata": {
        "id": "5c86de8d-3370-4048-ba44-57e9eded2345"
      },
      "outputs": [],
      "source": []
    }
  ],
  "metadata": {
    "kernelspec": {
      "display_name": "Python [conda env:base] *",
      "language": "python",
      "name": "conda-base-py"
    },
    "language_info": {
      "codemirror_mode": {
        "name": "ipython",
        "version": 3
      },
      "file_extension": ".py",
      "mimetype": "text/x-python",
      "name": "python",
      "nbconvert_exporter": "python",
      "pygments_lexer": "ipython3",
      "version": "3.12.7"
    },
    "colab": {
      "provenance": [],
      "include_colab_link": true
    }
  },
  "nbformat": 4,
  "nbformat_minor": 5
}